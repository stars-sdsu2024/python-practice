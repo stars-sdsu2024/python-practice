{
 "cells": [
  {
   "cell_type": "markdown",
   "metadata": {
    "id": "m2BtQg7zKg07"
   },
   "source": [
    "# SDSU Training Astronomy Research Scholars (STARS)\n",
    "# Day 7: Practice with `numpy` and `matplotlib`\n",
    "\n",
    "\n",
    "### Adapted from Prof. Robert Quimby\n",
    "### Prof. Kate Rubin <br> July 2, 2024\n"
   ]
  },
  {
   "cell_type": "markdown",
   "metadata": {
    "id": "CdR20cn8Kg08"
   },
   "source": [
    "### Reading:\n",
    "- Work through \"The Basics\" in the official [numpy quickstart tutorial](https://docs.scipy.org/doc/numpy/user/quickstart.html) (you can stop after the section discussing \"Indexing, Slicing, and Iterating\" on one-dimensional arrays).\n",
    "- Official introduction to [pyplot](https://matplotlib.org/tutorials/introductory/pyplot.html) in `matplotlib`"
   ]
  },
  {
   "cell_type": "markdown",
   "metadata": {
    "id": "7h5uEIIDKg08"
   },
   "source": [
    "### Reference Material:\n",
    "- View the [Gallery of Matplotlib examples](https://matplotlib.org/gallery/index.html) to get ideas of what is possible and try a few out (\"hack\" the examples to do things your way) "
   ]
  },
  {
   "cell_type": "markdown",
   "metadata": {
    "id": "63WEyn9VKg08"
   },
   "source": [
    "### Exercises:"
   ]
  },
  {
   "cell_type": "markdown",
   "metadata": {
    "collapsed": true,
    "id": "NWtwdWSeKg08"
   },
   "source": [
    "**(1)** $-$ Create a `numpy` array that holds the integers 3 to 23, inclusive. (Hint: `numpy` has a built-in function for this). Check your answer."
   ]
  },
  {
   "cell_type": "code",
   "execution_count": null,
   "metadata": {
    "id": "BVTww9GwKg08"
   },
   "outputs": [],
   "source": []
  },
  {
   "cell_type": "markdown",
   "metadata": {
    "id": "OnxwRz27Kg08"
   },
   "source": [
    "**(2)** $-$ Create a `numpy` array with 100 floating point values spread evenly from 0 to 1. (Hint: `numpy` has a built-in function for this). Check your answer."
   ]
  },
  {
   "cell_type": "code",
   "execution_count": null,
   "metadata": {
    "id": "4LLjlnt2Kg09"
   },
   "outputs": [],
   "source": []
  },
  {
   "cell_type": "markdown",
   "metadata": {
    "id": "9v3ATIeEKg09"
   },
   "source": [
    "**(3)** $-$ What is the sum of the numbers 0 to 234? (Hint: this can be done on one line with `numpy`)."
   ]
  },
  {
   "cell_type": "code",
   "execution_count": null,
   "metadata": {
    "id": "Sg5c8MssKg09"
   },
   "outputs": [],
   "source": []
  },
  {
   "cell_type": "markdown",
   "metadata": {
    "id": "casE109ZKg09"
   },
   "source": [
    "**(4)** $-$ Use `matplotlib.pyplot` to plot a sine wave from phases $-2\\pi$ to $2\\pi$. Make sure to fully label your plot."
   ]
  },
  {
   "cell_type": "code",
   "execution_count": null,
   "metadata": {
    "id": "HwjdQe97Kg09"
   },
   "outputs": [],
   "source": []
  },
  {
   "cell_type": "markdown",
   "metadata": {
    "id": "R5PkP9DRKg09"
   },
   "source": [
    "**(5)** $-$ Use `numpy` to load in the data contained in the `xy.dat` file in your `stars2024/python-practice` directory, then plot the first column of numbers versus the second using `matplotlib`."
   ]
  },
  {
   "cell_type": "code",
   "execution_count": null,
   "metadata": {
    "id": "mSZaulbPKg09"
   },
   "outputs": [],
   "source": []
  }
 ],
 "metadata": {
  "anaconda-cloud": {},
  "colab": {
   "name": "astr680.hw01.ipynb",
   "provenance": []
  },
  "kernelspec": {
   "display_name": "Python 3 (ipykernel)",
   "language": "python",
   "name": "python3"
  },
  "language_info": {
   "codemirror_mode": {
    "name": "ipython",
    "version": 3
   },
   "file_extension": ".py",
   "mimetype": "text/x-python",
   "name": "python",
   "nbconvert_exporter": "python",
   "pygments_lexer": "ipython3",
   "version": "3.11.5"
  },
  "nbpresent": {
   "slides": {
    "12f5f6c8-8528-4174-a910-b91bb6640278": {
     "id": "12f5f6c8-8528-4174-a910-b91bb6640278",
     "prev": "a1d2d086-949f-466e-9370-d713abc7429e",
     "regions": {
      "1b91e01c-615e-40f9-a283-519b2507bfd2": {
       "attrs": {
        "height": 0.8,
        "width": 0.8,
        "x": 0.1,
        "y": 0.1
       },
       "content": {
        "cell": "a9234165-4922-4af3-a018-55e1598d6ca2",
        "part": "whole"
       },
       "id": "1b91e01c-615e-40f9-a283-519b2507bfd2"
      }
     }
    },
    "4d26add7-8313-4444-9c2e-7c0d2c81e3f6": {
     "id": "4d26add7-8313-4444-9c2e-7c0d2c81e3f6",
     "prev": "12f5f6c8-8528-4174-a910-b91bb6640278",
     "regions": {
      "fe3c1e14-a853-4440-89ae-eaed4cd542f9": {
       "attrs": {
        "height": 0.8,
        "width": 0.8,
        "x": 0.1,
        "y": 0.1
       },
       "content": {
        "cell": "42de30f3-73f2-420b-8c22-a6b8a031520c",
        "part": "whole"
       },
       "id": "fe3c1e14-a853-4440-89ae-eaed4cd542f9"
      }
     }
    },
    "9164ac0c-bb75-46bf-9ac1-cd5778ebb92a": {
     "id": "9164ac0c-bb75-46bf-9ac1-cd5778ebb92a",
     "layout": "grid",
     "prev": "ca0f1a0c-9dd7-4275-ac90-338baf99c857",
     "regions": {
      "666a668c-5404-41ba-815c-b93fc790c73e": {
       "attrs": {
        "height": 0.8333333333333334,
        "pad": 0.01,
        "treemap:weight": 1,
        "width": 0.5,
        "x": 0.5,
        "y": 0.16666666666666666
       },
       "id": "666a668c-5404-41ba-815c-b93fc790c73e"
      },
      "9229f1ad-7464-4340-9c33-73df2142c13d": {
       "attrs": {
        "height": 0.16650757286496118,
        "pad": 0.01,
        "treemap:weight": 1,
        "width": 1,
        "x": 0,
        "y": 0
       },
       "height": 0.2,
       "id": "9229f1ad-7464-4340-9c33-73df2142c13d"
      },
      "b26719d2-3534-4acc-bba0-d51764042987": {
       "attrs": {
        "height": 0.8333333333333334,
        "pad": 0.01,
        "treemap:weight": 1,
        "width": 0.5,
        "x": 0,
        "y": 0.16666666666666666
       },
       "content": {
        "cell": "35f7ea6f-f818-44ef-a1a2-0dbbda08e884",
        "part": "source"
       },
       "id": "b26719d2-3534-4acc-bba0-d51764042987"
      }
     }
    },
    "a1d2d086-949f-466e-9370-d713abc7429e": {
     "id": "a1d2d086-949f-466e-9370-d713abc7429e",
     "prev": "9164ac0c-bb75-46bf-9ac1-cd5778ebb92a",
     "regions": {
      "1e530fee-955a-433a-a424-e59815681c6e": {
       "attrs": {
        "height": 0.8,
        "width": 0.8,
        "x": 0.1,
        "y": 0.1
       },
       "content": {
        "cell": "51c73370-0c78-4f69-a731-fa0ed0b6440c",
        "part": "whole"
       },
       "id": "1e530fee-955a-433a-a424-e59815681c6e"
      }
     }
    },
    "ca0f1a0c-9dd7-4275-ac90-338baf99c857": {
     "id": "ca0f1a0c-9dd7-4275-ac90-338baf99c857",
     "prev": null,
     "regions": {}
    }
   },
   "themes": {}
  }
 },
 "nbformat": 4,
 "nbformat_minor": 1
}
