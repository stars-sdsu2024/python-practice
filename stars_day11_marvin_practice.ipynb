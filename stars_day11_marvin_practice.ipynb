{
 "cells": [
  {
   "cell_type": "markdown",
   "id": "bf6fc548",
   "metadata": {},
   "source": [
    "# SDSU Training Astronomy Research Scholars (STARS)\n",
    "# Day 11: Practice with Marvin: Estimating a Galaxy's Spatially-Resolved Star Formation Rate\n",
    "\n",
    "\n",
    "\n",
    "### Prof. Kate Rubin <br> July 9, 2024\n",
    "### Adapted from the [Marvin Science Exercises tutorial](https://sdss-marvin.readthedocs.io/en/latest/tutorials/exercises.html)"
   ]
  },
  {
   "cell_type": "markdown",
   "id": "597e8381",
   "metadata": {},
   "source": [
    "In this activity, you'll work through the basic steps required to compute a map of a galaxy's star formation activity.  Such maps typically have units of $M_{\\odot}~\\rm yr^{-1}~kpc^{-2}$.  The primary observable you'll be using for this estimate is the map of the galaxy's H$\\alpha$ flux.\n",
    "\n",
    "**Note:** If you were computing a map of a galaxy's SFR for publication, you would also want to account for the effects of dust obscuration on the measured H$\\alpha$ flux, as well as for potential contamination of the H$\\alpha$ emission due to the presence of an active nuclear black hole.  We won't get into those nuances here."
   ]
  },
  {
   "cell_type": "markdown",
   "id": "2ea24a41",
   "metadata": {},
   "source": [
    "## Step 1. Import the maps for your galaxy"
   ]
  },
  {
   "cell_type": "code",
   "execution_count": null,
   "id": "99c79abf",
   "metadata": {},
   "outputs": [],
   "source": [
    "from marvin import config\n",
    "config.switchSasUrl(sasmode='mirror')\n",
    "\n",
    "from marvin.tools import Maps\n",
    "maps = Maps('7443-1901', mode='remote')\n"
   ]
  },
  {
   "cell_type": "code",
   "execution_count": null,
   "id": "a3d5bb10",
   "metadata": {},
   "outputs": [],
   "source": [
    "# Select the H-alpha map, and make a plot of it.  Note the units of the flux.\n",
    "\n",
    "flux_Ha = ????\n",
    "flux_Ha.plot();"
   ]
  },
  {
   "cell_type": "markdown",
   "id": "e97c31dd",
   "metadata": {},
   "source": [
    "## Step 2.  Compute the luminosity of H$\\alpha$ per spaxel \n",
    "\n",
    "To do this, you'll need to use your H$\\alpha$ flux map, along with the [inverse square law](https://en.wikipedia.org/wiki/Inverse-square_law) for light.  This law says that the flux $f$ measured at a distance $D$ from a source with intrinsic luminosity $L$ is given by\n",
    "\n",
    "$$\n",
    "    f = \\frac{L}{4\\pi D^2}.\n",
    "$$"
   ]
  },
  {
   "cell_type": "markdown",
   "id": "bc4c3ad0",
   "metadata": {},
   "source": [
    "### Step 2a. Find the distance to the galaxy\n",
    "\n",
    "To apply the inverse square law, you'll need to know the distance to this galaxy.  We can get a pretty good estimate of a galaxy's distance (as long as it's relatively nearby) using Hubble's Law:\n",
    "\n",
    "$$\n",
    "    D \\approx \\frac{cz}{H_0}.\n",
    "$$\n",
    "\n",
    "Here, $c$ is the speed of light, and $z$ is the galaxy's redshift.  The product $cz$ is the recession velocity of the system, and $H_0 = 70~\\rm km~s^{-1}~Mpc^{-1}$ is the Hubble constant."
   ]
  },
  {
   "cell_type": "code",
   "execution_count": null,
   "id": "f46a77e2",
   "metadata": {},
   "outputs": [],
   "source": [
    "from astropy import units as u\n",
    "\n",
    "# extract the galaxy's redshift from the DAPall catalog\n",
    "redshift = maps.dapall['z']\n",
    "H0 = 70.0 * u.km / u.s / u.Mpc\n",
    "\n",
    "# compute the galaxy's distance\n",
    "D = ????"
   ]
  },
  {
   "cell_type": "markdown",
   "id": "79a0f1fc",
   "metadata": {},
   "source": [
    "### Step 2b. Use the inverse square law and distance to compute an H$\\alpha$ luminosity map"
   ]
  },
  {
   "cell_type": "code",
   "execution_count": null,
   "id": "388e6248",
   "metadata": {},
   "outputs": [],
   "source": [
    "# calculate H-alpha luminosity in each spaxel\n",
    "import numpy as np\n",
    "lum_Ha = ????     # should have units of erg/s/spaxel\n"
   ]
  },
  {
   "cell_type": "markdown",
   "id": "2fcd2846",
   "metadata": {},
   "source": [
    "## Step 3. Find the area of each spaxel in $\\rm kpc^2$"
   ]
  },
  {
   "cell_type": "markdown",
   "id": "a00a46b3",
   "metadata": {},
   "source": [
    "In order to eventually produce SFR maps in units of $M_{\\odot}~\\rm yr^{-1}~kpc^{-2}$, we need to find the area of each MaNGA spaxel in $\\rm kpc^2$.  It will be helpful to know that all of the spaxels we're working with here have angular sizes of $0.5$ arcseconds (and so have angular areas of 0.25 arcsec$^2$).  Use the distance $D$ you calculated above in combination with this angular size to compute the area of each spaxel in $\\rm kpc^2$.\n",
    "\n",
    "As a reminder, $60~\\rm arcsec = 1~arcmin$, and $60~\\rm arcmin = 1~degree$."
   ]
  },
  {
   "cell_type": "code",
   "execution_count": null,
   "id": "7614c2e0",
   "metadata": {},
   "outputs": [],
   "source": [
    "# compute spaxel area in kpc^2\n",
    "????\n"
   ]
  },
  {
   "cell_type": "markdown",
   "id": "e056a304",
   "metadata": {},
   "source": [
    "## Step 4.  Compute a map of SFR surface density"
   ]
  },
  {
   "cell_type": "markdown",
   "id": "17efdeb0",
   "metadata": {},
   "source": [
    "Now use the spaxel area you computed above, along with the relation\n",
    "\n",
    "$$\n",
    "    \\rm SFR (M_{\\odot}~\\rm yr^{-1}) = 5.3 \\times 10^{-42} L_{H\\alpha}(erg~s^{-1})\n",
    "$$\n",
    "\n",
    "to compute a map of the SFR surface density in units of $M_{\\odot}~\\rm yr^{-1}~kpc^{2}$."
   ]
  },
  {
   "cell_type": "code",
   "execution_count": null,
   "id": "f7d69554",
   "metadata": {},
   "outputs": [],
   "source": [
    "# compute an array containing a map of SFR surface density\n",
    "????"
   ]
  },
  {
   "cell_type": "code",
   "execution_count": null,
   "id": "9de1f04a",
   "metadata": {},
   "outputs": [],
   "source": [
    "# what is the maximum value of your map?\n",
    "????"
   ]
  },
  {
   "cell_type": "markdown",
   "id": "c763d5a4",
   "metadata": {},
   "source": [
    "## Step 5. Plot your map"
   ]
  },
  {
   "cell_type": "code",
   "execution_count": null,
   "id": "acf09354",
   "metadata": {},
   "outputs": [],
   "source": [
    "# adjust the vmin and vmax parameters below to appropriate min and max values for your map\n",
    "\n",
    "%matplotlib inline\n",
    "import matplotlib.pyplot as plt\n",
    "fig, ax = plt.subplots()\n",
    "p = ax.imshow(????, origin='lower', vmin=????, vmax=????)\n",
    "ax.set_xlabel('spaxel')\n",
    "ax.set_ylabel('spaxel')\n",
    "cb = fig.colorbar(p)\n",
    "cb.set_label('SFR [M$_\\odot$ / yr / kpc$^2$]')"
   ]
  },
  {
   "cell_type": "markdown",
   "id": "96ae1f00",
   "metadata": {},
   "source": [
    "## Step 6. Check your work"
   ]
  },
  {
   "cell_type": "code",
   "execution_count": null,
   "id": "c46b8a8f",
   "metadata": {},
   "outputs": [],
   "source": [
    "# use your map to compute the total SFR of the galaxy\n",
    "????"
   ]
  },
  {
   "cell_type": "code",
   "execution_count": null,
   "id": "7328c130",
   "metadata": {},
   "outputs": [],
   "source": [
    "# check the value of SFR for this system stored in the DAPall catalog\n",
    "print(maps.dapall['sfr_tot'])\n"
   ]
  },
  {
   "cell_type": "markdown",
   "id": "9581fd9b",
   "metadata": {},
   "source": [
    "The two values listed above should be pretty close.  If they aren't, you may have a bug somewhere in your code."
   ]
  },
  {
   "cell_type": "markdown",
   "id": "d1c724b6",
   "metadata": {},
   "source": [
    "## Step 7. Plot the SFR radial profile"
   ]
  },
  {
   "cell_type": "markdown",
   "id": "307a0878",
   "metadata": {},
   "source": [
    "You can now examine how the SFR of this galaxy changes with radius.\n",
    "\n",
    "One of the maps stored in the `Maps` object is called `spx_ellcoo_r_re`.  In this map, the value of each spaxel corresponds to its distance from the galaxy's center, in units of the galaxy's so-called [effective radius](https://astronomy.swin.edu.au/cosmos/h/Half-light+Radius), or $R_{\\rm eff}$.  "
   ]
  },
  {
   "cell_type": "code",
   "execution_count": null,
   "id": "6670492d",
   "metadata": {},
   "outputs": [],
   "source": [
    "# extract and plot this map of R/Reff\n",
    "radius = maps['spx_ellcoo_r_re']\n",
    "radius.plot()"
   ]
  },
  {
   "cell_type": "markdown",
   "id": "7f54e83f",
   "metadata": {},
   "source": [
    "Now, make a scatter plot showing how SFR surface density changes vs. $R/R_{\\rm eff}$.  Be sure to adjust the limits of your y-axis so that your plot reveals these changes."
   ]
  },
  {
   "cell_type": "code",
   "execution_count": null,
   "id": "a696eb45",
   "metadata": {},
   "outputs": [],
   "source": [
    "# SFR vs. R/Reff\n",
    "fig, ax = plt.subplots(figsize=(6,6))\n",
    "ax.scatter(????, ????, alpha=0.15)\n",
    "????\n"
   ]
  },
  {
   "cell_type": "markdown",
   "id": "bc0c60d7",
   "metadata": {},
   "source": [
    "How does SFR appear to depend on relative distance from the galaxy's center in this particular system?"
   ]
  },
  {
   "cell_type": "code",
   "execution_count": null,
   "id": "e57d339a",
   "metadata": {},
   "outputs": [],
   "source": []
  }
 ],
 "metadata": {
  "kernelspec": {
   "display_name": "Python 3 (ipykernel)",
   "language": "python",
   "name": "python3"
  },
  "language_info": {
   "codemirror_mode": {
    "name": "ipython",
    "version": 3
   },
   "file_extension": ".py",
   "mimetype": "text/x-python",
   "name": "python",
   "nbconvert_exporter": "python",
   "pygments_lexer": "ipython3",
   "version": "3.8.18"
  }
 },
 "nbformat": 4,
 "nbformat_minor": 5
}
