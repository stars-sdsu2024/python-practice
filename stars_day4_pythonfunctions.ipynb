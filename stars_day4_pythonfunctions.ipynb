{
 "cells": [
  {
   "cell_type": "markdown",
   "id": "41213bd5",
   "metadata": {},
   "source": [
    "# SDSU Training Astronomy Research Scholars (STARS)\n",
    "# Day 4: Intro to Python Functions\n",
    "\n",
    "\n",
    "### Prof. Kate Rubin <br> June 29, 2023\n",
    "### Inspired by Prof. Robert Quimby \n"
   ]
  },
  {
   "cell_type": "markdown",
   "id": "ab2e203c",
   "metadata": {},
   "source": [
    "## Functional Programming in Python"
   ]
  },
  {
   "cell_type": "markdown",
   "id": "f9cf2668",
   "metadata": {},
   "source": [
    "## Defining functions"
   ]
  },
  {
   "cell_type": "code",
   "execution_count": null,
   "id": "4fd3ae7e",
   "metadata": {},
   "outputs": [],
   "source": []
  },
  {
   "cell_type": "code",
   "execution_count": null,
   "id": "fcaf7468",
   "metadata": {},
   "outputs": [],
   "source": []
  },
  {
   "cell_type": "markdown",
   "id": "ca9e8fd3",
   "metadata": {},
   "source": [
    "## Creating modules\n",
    "* You can save python commands (including function definitions) to a file for later use.\n",
    "* The files should end with the `.py` extension.\n",
    "* These files are called modules."
   ]
  },
  {
   "cell_type": "code",
   "execution_count": null,
   "id": "5cae61c8",
   "metadata": {},
   "outputs": [],
   "source": []
  },
  {
   "cell_type": "markdown",
   "id": "7e9e2520",
   "metadata": {},
   "source": [
    "## Loading modules and packages"
   ]
  },
  {
   "cell_type": "code",
   "execution_count": null,
   "id": "46bfa642",
   "metadata": {},
   "outputs": [],
   "source": []
  },
  {
   "cell_type": "code",
   "execution_count": null,
   "id": "ca97229d",
   "metadata": {},
   "outputs": [],
   "source": [
    "# run a function from an imported module\n"
   ]
  },
  {
   "cell_type": "markdown",
   "id": "46dda3cc",
   "metadata": {},
   "source": [
    "## If you change a module you must reload it!"
   ]
  },
  {
   "cell_type": "code",
   "execution_count": null,
   "id": "25b591d0",
   "metadata": {},
   "outputs": [],
   "source": []
  },
  {
   "cell_type": "markdown",
   "id": "27726806",
   "metadata": {},
   "source": [
    "## Variable scope"
   ]
  },
  {
   "cell_type": "code",
   "execution_count": null,
   "id": "2c3def4b",
   "metadata": {},
   "outputs": [],
   "source": []
  },
  {
   "cell_type": "markdown",
   "id": "6086a763",
   "metadata": {},
   "source": [
    "## Debugging code"
   ]
  },
  {
   "cell_type": "code",
   "execution_count": null,
   "id": "40e228a5",
   "metadata": {},
   "outputs": [],
   "source": []
  },
  {
   "cell_type": "code",
   "execution_count": null,
   "id": "91222f8e",
   "metadata": {},
   "outputs": [],
   "source": [
    "debug\n"
   ]
  },
  {
   "cell_type": "markdown",
   "id": "520443e3",
   "metadata": {},
   "source": [
    "## Write functions!"
   ]
  }
 ],
 "metadata": {
  "kernelspec": {
   "display_name": "Python 3 (ipykernel)",
   "language": "python",
   "name": "python3"
  },
  "language_info": {
   "codemirror_mode": {
    "name": "ipython",
    "version": 3
   },
   "file_extension": ".py",
   "mimetype": "text/x-python",
   "name": "python",
   "nbconvert_exporter": "python",
   "pygments_lexer": "ipython3",
   "version": "3.9.12"
  }
 },
 "nbformat": 4,
 "nbformat_minor": 5
}
