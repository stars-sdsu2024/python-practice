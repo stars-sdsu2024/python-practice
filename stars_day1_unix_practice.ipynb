{
 "cells": [
  {
   "cell_type": "markdown",
   "id": "202478f9",
   "metadata": {},
   "source": [
    "# SDSU Training Astronomy Research Scholars (STARS)\n",
    "# Day 1: Practice with Unix\n",
    "\n",
    "\n",
    "### Prof. Kate Rubin <br> June 24, 2024"
   ]
  },
  {
   "cell_type": "markdown",
   "id": "fc11f1b4",
   "metadata": {},
   "source": [
    "### Reading:\n",
    "- Read and do all exercises in the following sections of the [UNIX tutorial for beginners](http://www.ee.surrey.ac.uk/Teaching/Unix/) (even if you are not):\n",
    "  - note these tutorial assume you have a `tcsh` shell, but you should stick with `bash` (the default).\n",
    "  - [Tutorial 1](http://www.ee.surrey.ac.uk/Teaching/Unix/unix1.html)\n",
    "  - [Tutorial 2](http://www.ee.surrey.ac.uk/Teaching/Unix/unix2.html)\n",
    "  - [Tutorial 4](http://www.ee.surrey.ac.uk/Teaching/Unix/unix4.html)"
   ]
  },
  {
   "cell_type": "markdown",
   "id": "67d91802",
   "metadata": {},
   "source": [
    "### Some Helpful Reference Material:\n",
    "- Opening a Terminal: https://www.wikihow.com/Open-a-Terminal-Window-in-Ubuntu\n",
    "- Chapter 1, \"Essential Unix Skills\", Sections 1.1 through 1.4 and 1.6.1, in [Python for Astronomers](https://prappleizer.github.io/) by Imad Pasha and Chris Agostino\n",
    "- \"Cheat sheet\" of [unix commands](https://gist.github.com/LeCoupa/122b12050f5fb267e75f) \n",
    "- \"Cheat sheet\" of [keyboard shortcuts](https://www.howtogeek.com/181/keyboard-shortcuts-for-bash-command-shell-for-ubuntu-debian-suse-redhat-linux-etc/)\n"
   ]
  },
  {
   "cell_type": "markdown",
   "id": "2f8aa252",
   "metadata": {},
   "source": [
    "### Exercises"
   ]
  },
  {
   "cell_type": "markdown",
   "id": "23a57570",
   "metadata": {},
   "source": [
    "### State what command you would need to enter into a unix terminal to do each of the following.\n",
    "Use your unix machines to make sure your answers are correct."
   ]
  },
  {
   "cell_type": "markdown",
   "id": "c875fb53",
   "metadata": {},
   "source": [
    "1. Display the manual entry for the program `less`."
   ]
  },
  {
   "cell_type": "code",
   "execution_count": null,
   "id": "20dd60b7",
   "metadata": {},
   "outputs": [],
   "source": []
  },
  {
   "cell_type": "markdown",
   "id": "4107cf0f",
   "metadata": {},
   "source": [
    "2. Display your user id."
   ]
  },
  {
   "cell_type": "code",
   "execution_count": null,
   "id": "e14e4a23",
   "metadata": {},
   "outputs": [],
   "source": []
  },
  {
   "cell_type": "markdown",
   "id": "0c984b88",
   "metadata": {},
   "source": [
    "3. Display the current date and time."
   ]
  },
  {
   "cell_type": "code",
   "execution_count": null,
   "id": "6f33f5f0",
   "metadata": {},
   "outputs": [],
   "source": []
  },
  {
   "cell_type": "markdown",
   "id": "fa4296a7",
   "metadata": {},
   "source": [
    "4. Make a directory in your working directory called `test`."
   ]
  },
  {
   "cell_type": "code",
   "execution_count": null,
   "id": "430f78f6",
   "metadata": {},
   "outputs": [],
   "source": []
  },
  {
   "cell_type": "markdown",
   "id": "c451ba5f",
   "metadata": {},
   "source": [
    "5. Enter the directory `test`."
   ]
  },
  {
   "cell_type": "code",
   "execution_count": null,
   "id": "1af33a77",
   "metadata": {},
   "outputs": [],
   "source": []
  },
  {
   "cell_type": "markdown",
   "id": "7fd6e468",
   "metadata": {},
   "source": [
    "6. Print the path to the working directory."
   ]
  },
  {
   "cell_type": "code",
   "execution_count": null,
   "id": "db4c6219",
   "metadata": {},
   "outputs": [],
   "source": []
  },
  {
   "cell_type": "markdown",
   "id": "bc0bfa0a",
   "metadata": {},
   "source": [
    "7. List the contents of the working directory."
   ]
  },
  {
   "cell_type": "code",
   "execution_count": null,
   "id": "154819a3",
   "metadata": {},
   "outputs": [],
   "source": []
  },
  {
   "cell_type": "markdown",
   "id": "05d27384",
   "metadata": {},
   "source": [
    "8. Create a file in the working directory called `blah`."
   ]
  },
  {
   "cell_type": "code",
   "execution_count": null,
   "id": "d48a7c45",
   "metadata": {},
   "outputs": [],
   "source": []
  },
  {
   "cell_type": "markdown",
   "id": "88691343",
   "metadata": {},
   "source": [
    "9. Copy the file `blah` to a new file called `blah2`."
   ]
  },
  {
   "cell_type": "code",
   "execution_count": null,
   "id": "dcc227e1",
   "metadata": {},
   "outputs": [],
   "source": []
  },
  {
   "cell_type": "markdown",
   "id": "ec34e232",
   "metadata": {},
   "source": [
    "10. List the files in the working directory in long format, sorted by the time they were modified, with the most recently modified listed first."
   ]
  },
  {
   "cell_type": "code",
   "execution_count": null,
   "id": "9674c988",
   "metadata": {},
   "outputs": [],
   "source": []
  },
  {
   "cell_type": "markdown",
   "id": "2c403ebc",
   "metadata": {},
   "source": [
    "11. Move the file `blah2` to a new file called `.blah2`."
   ]
  },
  {
   "cell_type": "code",
   "execution_count": null,
   "id": "7e04256d",
   "metadata": {},
   "outputs": [],
   "source": []
  },
  {
   "cell_type": "markdown",
   "id": "9b67d24c",
   "metadata": {},
   "source": [
    "12. List all files in the working directory, including those that start with `.`"
   ]
  },
  {
   "cell_type": "code",
   "execution_count": null,
   "id": "6c5ea76c",
   "metadata": {},
   "outputs": [],
   "source": []
  },
  {
   "cell_type": "markdown",
   "id": "ec52e342",
   "metadata": {},
   "source": [
    "13. Use the `curl` command to retrieve the file located at the web address `http://classic.sdss.org/dr7/instruments/imager/filters/r.dat` and place it in the working directory.  Use the option that will ensure the local version of the file is called `r.dat`."
   ]
  },
  {
   "cell_type": "code",
   "execution_count": null,
   "id": "f3ac3ac8",
   "metadata": {},
   "outputs": [],
   "source": []
  },
  {
   "cell_type": "markdown",
   "id": "9eae458c",
   "metadata": {},
   "source": [
    "14. Display the file `r.dat` in the terminal."
   ]
  },
  {
   "cell_type": "code",
   "execution_count": null,
   "id": "f6de32d7",
   "metadata": {},
   "outputs": [],
   "source": []
  },
  {
   "cell_type": "markdown",
   "id": "9e1dd8fa",
   "metadata": {},
   "source": [
    "15. Display the last part of the file `r.dat` in the terminal."
   ]
  },
  {
   "cell_type": "code",
   "execution_count": null,
   "id": "2e3f0017",
   "metadata": {},
   "outputs": [],
   "source": []
  },
  {
   "cell_type": "markdown",
   "id": "0d5c06f9",
   "metadata": {},
   "source": [
    "16. Print all instances of the number 64 in all files in the working directory."
   ]
  },
  {
   "cell_type": "code",
   "execution_count": null,
   "id": "2041cd05",
   "metadata": {},
   "outputs": [],
   "source": []
  },
  {
   "cell_type": "markdown",
   "id": "8f937ade",
   "metadata": {},
   "source": [
    "17. Delete the files `blah` and `.blah2`."
   ]
  },
  {
   "cell_type": "code",
   "execution_count": null,
   "id": "9b09814e",
   "metadata": {},
   "outputs": [],
   "source": []
  }
 ],
 "metadata": {
  "kernelspec": {
   "display_name": "Python 3 (ipykernel)",
   "language": "python",
   "name": "python3"
  },
  "language_info": {
   "codemirror_mode": {
    "name": "ipython",
    "version": 3
   },
   "file_extension": ".py",
   "mimetype": "text/x-python",
   "name": "python",
   "nbconvert_exporter": "python",
   "pygments_lexer": "ipython3",
   "version": "3.11.5"
  }
 },
 "nbformat": 4,
 "nbformat_minor": 5
}
