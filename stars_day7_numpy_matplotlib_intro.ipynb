{
 "cells": [
  {
   "cell_type": "markdown",
   "id": "4e833550",
   "metadata": {
    "slideshow": {
     "slide_type": "slide"
    }
   },
   "source": [
    "# SDSU Training Astronomy Research Scholars (STARS)\n",
    "# Day 7: Intro to numpy and matplotlib\n",
    "\n",
    "\n",
    "### Prof. Kate Rubin <br> July 1, 2024\n",
    "\n",
    "&copy; 2024 Kate Rubin"
   ]
  },
  {
   "cell_type": "markdown",
   "id": "3f91ac74",
   "metadata": {
    "slideshow": {
     "slide_type": "slide"
    }
   },
   "source": [
    "## [Light, Matter and Spectra](https://drive.google.com/file/d/1iS74FRoU3LPYMQmes_U3L1ZyapE9sguF/view?usp=sharing)"
   ]
  },
  {
   "cell_type": "markdown",
   "id": "dba10b1d",
   "metadata": {
    "slideshow": {
     "slide_type": "slide"
    }
   },
   "source": [
    "# Numpy\n",
    "## working with arrays in Python\n",
    "\n",
    "![](https://upload.wikimedia.org/wikipedia/commons/thumb/1/1a/NumPy_logo.svg/640px-NumPy_logo.svg.png)\n",
    "\n",
    "\n",
    "### Adapted from Prof. Robert Quimby\n",
    "&copy; 2018 Robert Quimby"
   ]
  },
  {
   "cell_type": "markdown",
   "id": "f2f946a9",
   "metadata": {
    "slideshow": {
     "slide_type": "slide"
    }
   },
   "source": [
    "## Learn how to..."
   ]
  },
  {
   "cell_type": "markdown",
   "id": "3bd8d613",
   "metadata": {
    "slideshow": {
     "slide_type": "slide"
    }
   },
   "source": [
    "* create 1- and 2-dimensional `numpy` arrays\n",
    "* see how to access individual elements and array slices\n",
    "* perform basic mathematical operations on each array element\n",
    "* learn about some of the most useful `numpy` functions\n",
    "* get a quick introduction to `numpy` structured arrays\n",
    "* See also:\n",
    "    - http://www.numpy.org/\n",
    "    - https://docs.scipy.org/doc/numpy/user/quickstart.html"
   ]
  },
  {
   "cell_type": "markdown",
   "id": "7d7b9f72",
   "metadata": {},
   "source": [
    "## Motivation"
   ]
  },
  {
   "cell_type": "code",
   "execution_count": null,
   "id": "68361f85",
   "metadata": {},
   "outputs": [],
   "source": [
    "list1 = [1, 2, 3, 4, 5]\n",
    "list2 = [3, 4, 2, 6, 4]\n",
    "\n",
    "# compute the item-wise list sum\n"
   ]
  },
  {
   "cell_type": "markdown",
   "id": "592196f1",
   "metadata": {},
   "source": [
    "## Load the numpy package"
   ]
  },
  {
   "cell_type": "code",
   "execution_count": null,
   "id": "6c3aa41f",
   "metadata": {},
   "outputs": [],
   "source": []
  },
  {
   "cell_type": "markdown",
   "id": "3d3b01b0",
   "metadata": {},
   "source": [
    "## `numpy` array operations"
   ]
  },
  {
   "cell_type": "code",
   "execution_count": null,
   "id": "14f1d6d5",
   "metadata": {},
   "outputs": [],
   "source": [
    "a1 = np.array([1, 2, 3, 4, 5])\n",
    "a2 = np.array([3, 4, 2, 6, 4])\n"
   ]
  },
  {
   "cell_type": "code",
   "execution_count": null,
   "id": "b177bcd2",
   "metadata": {},
   "outputs": [],
   "source": []
  },
  {
   "cell_type": "markdown",
   "id": "94046a39",
   "metadata": {},
   "source": [
    "## Array indexing and slicing"
   ]
  },
  {
   "cell_type": "code",
   "execution_count": null,
   "id": "38666d58",
   "metadata": {},
   "outputs": [],
   "source": [
    "print(a1)"
   ]
  },
  {
   "cell_type": "code",
   "execution_count": null,
   "id": "fe510941",
   "metadata": {},
   "outputs": [],
   "source": []
  },
  {
   "cell_type": "markdown",
   "id": "4e1121a3",
   "metadata": {},
   "source": [
    "## 2-D arrays"
   ]
  },
  {
   "cell_type": "code",
   "execution_count": null,
   "id": "90b3ac67",
   "metadata": {},
   "outputs": [],
   "source": []
  },
  {
   "cell_type": "code",
   "execution_count": null,
   "id": "8541e023",
   "metadata": {},
   "outputs": [],
   "source": []
  },
  {
   "cell_type": "markdown",
   "id": "fe8e0110",
   "metadata": {},
   "source": [
    "## `numpy` arrays are mutable"
   ]
  },
  {
   "cell_type": "code",
   "execution_count": null,
   "id": "0c48a6be",
   "metadata": {},
   "outputs": [],
   "source": [
    "a = np.array([1, 2, 3, 4, 5])\n"
   ]
  },
  {
   "cell_type": "markdown",
   "id": "1c5a82ad",
   "metadata": {},
   "source": [
    "## Useful `numpy` functions"
   ]
  },
  {
   "cell_type": "code",
   "execution_count": null,
   "id": "c5fe5f6c",
   "metadata": {},
   "outputs": [],
   "source": [
    "np.arange()"
   ]
  },
  {
   "cell_type": "code",
   "execution_count": null,
   "id": "82644582",
   "metadata": {},
   "outputs": [],
   "source": [
    "np.linspace()"
   ]
  },
  {
   "cell_type": "code",
   "execution_count": null,
   "id": "70be6ea4",
   "metadata": {},
   "outputs": [],
   "source": [
    "np.zeros()"
   ]
  },
  {
   "cell_type": "code",
   "execution_count": null,
   "id": "ba234a68",
   "metadata": {},
   "outputs": [],
   "source": [
    "np.ones()"
   ]
  },
  {
   "cell_type": "markdown",
   "id": "e4abbd38",
   "metadata": {},
   "source": [
    "## Trig functions"
   ]
  },
  {
   "cell_type": "code",
   "execution_count": null,
   "id": "e4bc53aa",
   "metadata": {},
   "outputs": [],
   "source": [
    "np.cos()"
   ]
  },
  {
   "cell_type": "markdown",
   "id": "1b70295c",
   "metadata": {},
   "source": [
    "## Useful `numpy` array attributes"
   ]
  },
  {
   "cell_type": "code",
   "execution_count": null,
   "id": "31ae3fd3",
   "metadata": {},
   "outputs": [],
   "source": [
    "a2.shape"
   ]
  },
  {
   "cell_type": "code",
   "execution_count": null,
   "id": "af26bb70",
   "metadata": {},
   "outputs": [],
   "source": [
    "a2.size"
   ]
  },
  {
   "cell_type": "markdown",
   "id": "e53cab77",
   "metadata": {},
   "source": [
    "## Useful `numpy` array methods"
   ]
  },
  {
   "cell_type": "code",
   "execution_count": null,
   "id": "14f12124",
   "metadata": {},
   "outputs": [],
   "source": [
    "a1.mean()"
   ]
  },
  {
   "cell_type": "code",
   "execution_count": null,
   "id": "a213baae",
   "metadata": {},
   "outputs": [],
   "source": [
    "print()"
   ]
  },
  {
   "cell_type": "code",
   "execution_count": null,
   "id": "0d16f6bc",
   "metadata": {},
   "outputs": [],
   "source": [
    "a2.sum()"
   ]
  },
  {
   "cell_type": "code",
   "execution_count": null,
   "id": "4b4aceb6",
   "metadata": {},
   "outputs": [],
   "source": [
    "a2.min()"
   ]
  },
  {
   "cell_type": "code",
   "execution_count": null,
   "id": "ed5d567e",
   "metadata": {},
   "outputs": [],
   "source": [
    "a2.argmin()"
   ]
  },
  {
   "cell_type": "markdown",
   "id": "2080dd4a",
   "metadata": {},
   "source": [
    "## Truth arrays"
   ]
  },
  {
   "cell_type": "code",
   "execution_count": null,
   "id": "9d8ff586",
   "metadata": {},
   "outputs": [],
   "source": [
    "a1 > 3"
   ]
  },
  {
   "cell_type": "code",
   "execution_count": null,
   "id": "d84ab209",
   "metadata": {},
   "outputs": [],
   "source": [
    "import numpy as np\n",
    "a = np.arange(10)\n",
    "w = a > 3\n",
    "w"
   ]
  },
  {
   "cell_type": "code",
   "execution_count": null,
   "id": "846b554f",
   "metadata": {},
   "outputs": [],
   "source": []
  },
  {
   "cell_type": "markdown",
   "id": "a8d92237",
   "metadata": {},
   "source": [
    "## Structured arrays"
   ]
  },
  {
   "cell_type": "code",
   "execution_count": null,
   "id": "0e2fa89a",
   "metadata": {},
   "outputs": [],
   "source": []
  },
  {
   "cell_type": "markdown",
   "id": "68b46b43",
   "metadata": {},
   "source": [
    "For more on `numpy` structured arrays see:\n",
    "* https://docs.scipy.org/doc/numpy/user/basics.rec.html#structured-arrays"
   ]
  },
  {
   "cell_type": "code",
   "execution_count": null,
   "id": "ae53f447",
   "metadata": {},
   "outputs": [],
   "source": [
    "dir(a2)"
   ]
  },
  {
   "cell_type": "code",
   "execution_count": null,
   "id": "fe9d2eac",
   "metadata": {},
   "outputs": [],
   "source": [
    "help(a2)"
   ]
  },
  {
   "cell_type": "code",
   "execution_count": null,
   "id": "1a2431f2",
   "metadata": {},
   "outputs": [],
   "source": []
  },
  {
   "cell_type": "markdown",
   "id": "44c5fd25",
   "metadata": {},
   "source": [
    "# Matplotlib\n",
    "## plotting in python\n",
    "\n",
    "![](https://upload.wikimedia.org/wikipedia/en/thumb/5/56/Matplotlib_logo.svg/540px-Matplotlib_logo.svg.png)\n",
    "\n",
    "\n",
    "### Adapted from Prof. Robert Quimby\n",
    "&copy; 2018 Robert Quimby"
   ]
  },
  {
   "cell_type": "markdown",
   "id": "d5137968",
   "metadata": {},
   "source": [
    "## Learn how to "
   ]
  },
  {
   "cell_type": "markdown",
   "id": "322864a6",
   "metadata": {},
   "source": [
    "* get set up for plotting in python\n",
    "* make simple curve and scatter plots\n",
    "* see how to customize plots to your needs\n",
    "* for full details see\n",
    "    - [`matplotlib` user's guide](https://matplotlib.org/users/index.html)"
   ]
  },
  {
   "cell_type": "markdown",
   "id": "187c9c46",
   "metadata": {},
   "source": [
    "## Importing `matplotlib`"
   ]
  },
  {
   "cell_type": "code",
   "execution_count": null,
   "id": "aabfa7ae",
   "metadata": {},
   "outputs": [],
   "source": []
  },
  {
   "cell_type": "markdown",
   "id": "d9c1d87e",
   "metadata": {},
   "source": [
    "## Make a plot"
   ]
  },
  {
   "cell_type": "code",
   "execution_count": null,
   "id": "17bc9476",
   "metadata": {},
   "outputs": [],
   "source": []
  },
  {
   "cell_type": "markdown",
   "id": "538953be",
   "metadata": {},
   "source": [
    "## Scatter plot"
   ]
  },
  {
   "cell_type": "code",
   "execution_count": null,
   "id": "ffe81f40",
   "metadata": {},
   "outputs": [],
   "source": []
  },
  {
   "cell_type": "markdown",
   "id": "005690aa",
   "metadata": {},
   "source": [
    "## Error bars"
   ]
  },
  {
   "cell_type": "code",
   "execution_count": null,
   "id": "7380f530",
   "metadata": {},
   "outputs": [],
   "source": []
  },
  {
   "cell_type": "markdown",
   "id": "9a089335",
   "metadata": {},
   "source": [
    "## Customizing"
   ]
  },
  {
   "cell_type": "code",
   "execution_count": null,
   "id": "6c3164bf",
   "metadata": {},
   "outputs": [],
   "source": [
    "# change the size of the plot\n"
   ]
  },
  {
   "cell_type": "markdown",
   "id": "d211bc46",
   "metadata": {},
   "source": [
    "## Change the fonts"
   ]
  },
  {
   "cell_type": "code",
   "execution_count": null,
   "id": "312bfc47",
   "metadata": {},
   "outputs": [],
   "source": [
    "plt.rc('axes', labelsize=14)\n",
    "plt.rc('axes', labelweight='bold')\n",
    "plt.rc('axes', titlesize=16)\n",
    "plt.rc('axes', titleweight='bold')\n",
    "plt.rc('font', family='sans-serif')"
   ]
  },
  {
   "cell_type": "code",
   "execution_count": null,
   "id": "a95096d2",
   "metadata": {},
   "outputs": [],
   "source": [
    "plt.plot(x, y, lw=5, c='blue', label='Model', zorder=1)\n",
    "plt.errorbar(xdata, ydata, yerr, color='red', zorder=2, capsize=5\n",
    "             , marker='o', ms=10, linestyle='None', label='Data')\n",
    "plt.xlabel('Time (days)')\n",
    "plt.ylabel('Magnitude')\n",
    "plt.title('Light Curve')\n",
    "plt.grid()\n",
    "plt.legend();"
   ]
  },
  {
   "cell_type": "code",
   "execution_count": null,
   "id": "a7315e03",
   "metadata": {},
   "outputs": [],
   "source": []
  },
  {
   "cell_type": "markdown",
   "id": "16b60beb",
   "metadata": {},
   "source": [
    "## Practice with `numpy` and `matplotlib`!"
   ]
  }
 ],
 "metadata": {
  "celltoolbar": "Slideshow",
  "kernelspec": {
   "display_name": "Python 3 (ipykernel)",
   "language": "python",
   "name": "python3"
  },
  "language_info": {
   "codemirror_mode": {
    "name": "ipython",
    "version": 3
   },
   "file_extension": ".py",
   "mimetype": "text/x-python",
   "name": "python",
   "nbconvert_exporter": "python",
   "pygments_lexer": "ipython3",
   "version": "3.11.5"
  }
 },
 "nbformat": 4,
 "nbformat_minor": 5
}
