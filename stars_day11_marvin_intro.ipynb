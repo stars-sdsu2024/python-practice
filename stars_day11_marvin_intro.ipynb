{
 "cells": [
  {
   "cell_type": "markdown",
   "id": "0763a47b",
   "metadata": {
    "slideshow": {
     "slide_type": "slide"
    }
   },
   "source": [
    "# SDSU Training Astronomy Research Scholars (STARS)\n",
    "# Day 11: Intro to Marvin\n",
    "\n",
    "\n",
    "\n",
    "### Prof. Kate Rubin <br> July 9, 2024\n",
    "### Adapted from the [Basics of Marvin tutorial](https://sdss-marvin.readthedocs.io/en/latest/tutorials/notebooks/Basics_of_Marvin.html)"
   ]
  },
  {
   "cell_type": "markdown",
   "id": "5a520651",
   "metadata": {
    "slideshow": {
     "slide_type": "slide"
    }
   },
   "source": [
    "There are two ways to interact with MaNGA data using marvin:\n",
    "\n",
    "* using [marvin web](https://dr17.sdss.org/marvin/)\n",
    "* using the sdss-marvin python package, [documented here](https://sdss-marvin.readthedocs.io/en/latest/)"
   ]
  },
  {
   "cell_type": "markdown",
   "id": "8f5f32d0",
   "metadata": {
    "slideshow": {
     "slide_type": "slide"
    }
   },
   "source": [
    "## Marvin Web"
   ]
  },
  {
   "cell_type": "markdown",
   "id": "ba936f88",
   "metadata": {
    "slideshow": {
     "slide_type": "slide"
    }
   },
   "source": [
    "Quantities of interest include:\n",
    "    \n",
    "* Under the Galaxy Properties menu:\n",
    "    * `z` -- redshift\n",
    "    * `elpetro_logmass` -- this is $\\log (M_*/M_{\\odot})$, where $M_*$ is the galaxy's total stellar mass (in units of solar masses)\n",
    "    * `elpetro_ba` -- the ratio, $b/a$, of the galaxy's minor axis length ($b$) to its major axis length ($a$)\n",
    "    \n",
    "* Under the DAP maps menu:\n",
    "    * `stellar_vel`  -- this is the velocity of stars in km/s, measured relative to the mean velocity of the whole galaxy\n",
    "    * `specindex:d4000` -- this is the spectral index D4000 (sensitive to galaxy age)\n",
    "    * `emline_gflux:ha_6564` -- this is the flux of the H$\\alpha$ emission line, in units of $10^{-17}\\rm erg~cm^{-2}~s^{-1}~spaxel^{-1}$\n",
    "    * `emline_gvel:ha_6564` -- this is the velocity of the H$\\alpha$ emission line in km/s, measured relative to the mean velocity of the whole galaxy"
   ]
  },
  {
   "cell_type": "markdown",
   "id": "af314ee6",
   "metadata": {
    "slideshow": {
     "slide_type": "slide"
    }
   },
   "source": [
    "## The sdss-marvin package"
   ]
  },
  {
   "cell_type": "markdown",
   "id": "0a4286c3",
   "metadata": {
    "slideshow": {
     "slide_type": "fragment"
    }
   },
   "source": [
    "* gives you access to everything on the Marvin Web -- plus much more\n",
    "* we'll see how to use the Marvin Cube, Maps and Query tools\n",
    "* we'll also see how to access extra data on a given galaxy (called \"metadata\")"
   ]
  },
  {
   "cell_type": "markdown",
   "id": "16215386",
   "metadata": {
    "slideshow": {
     "slide_type": "slide"
    }
   },
   "source": [
    "## A Marvin Cube holds an individual MaNGA datacube"
   ]
  },
  {
   "cell_type": "code",
   "execution_count": null,
   "id": "2cec3607",
   "metadata": {
    "slideshow": {
     "slide_type": "fragment"
    }
   },
   "outputs": [],
   "source": [
    "from marvin import config\n",
    "config.switchSasUrl(sasmode='mirror')\n",
    "\n",
    "from marvin.tools import Cube\n"
   ]
  },
  {
   "cell_type": "code",
   "execution_count": null,
   "id": "3838b499",
   "metadata": {
    "scrolled": true,
    "slideshow": {
     "slide_type": "fragment"
    }
   },
   "outputs": [],
   "source": [
    "# instantiate a cube\n"
   ]
  },
  {
   "cell_type": "code",
   "execution_count": null,
   "id": "92b4c73a",
   "metadata": {
    "slideshow": {
     "slide_type": "fragment"
    }
   },
   "outputs": [],
   "source": [
    "# coordinates and other information\n"
   ]
  },
  {
   "cell_type": "markdown",
   "id": "7d9736a6",
   "metadata": {
    "slideshow": {
     "slide_type": "slide"
    }
   },
   "source": [
    "## Working with Cubes"
   ]
  },
  {
   "cell_type": "code",
   "execution_count": null,
   "id": "c3b25bb5",
   "metadata": {
    "slideshow": {
     "slide_type": "fragment"
    }
   },
   "outputs": [],
   "source": [
    "# access the cube flux\n"
   ]
  },
  {
   "cell_type": "code",
   "execution_count": null,
   "id": "4be1c2e8",
   "metadata": {
    "slideshow": {
     "slide_type": "fragment"
    }
   },
   "outputs": [],
   "source": [
    "# access the cube wavelengths\n"
   ]
  },
  {
   "cell_type": "code",
   "execution_count": null,
   "id": "4bb96b8c",
   "metadata": {
    "slideshow": {
     "slide_type": "slide"
    }
   },
   "outputs": [],
   "source": [
    "# access and plot one spaxel\n"
   ]
  },
  {
   "cell_type": "markdown",
   "id": "8053eaaf",
   "metadata": {
    "slideshow": {
     "slide_type": "slide"
    }
   },
   "source": [
    "## Working with Maps"
   ]
  },
  {
   "cell_type": "code",
   "execution_count": null,
   "id": "57e7849b",
   "metadata": {
    "slideshow": {
     "slide_type": "fragment"
    }
   },
   "outputs": [],
   "source": [
    "from marvin.tools import Maps\n"
   ]
  },
  {
   "cell_type": "code",
   "execution_count": null,
   "id": "fb7de66e",
   "metadata": {
    "slideshow": {
     "slide_type": "fragment"
    }
   },
   "outputs": [],
   "source": []
  },
  {
   "cell_type": "code",
   "execution_count": null,
   "id": "91e47383",
   "metadata": {
    "slideshow": {
     "slide_type": "slide"
    }
   },
   "outputs": [],
   "source": [
    "# Basic maps values\n"
   ]
  },
  {
   "cell_type": "markdown",
   "id": "84e7d314",
   "metadata": {
    "slideshow": {
     "slide_type": "slide"
    }
   },
   "source": [
    "## Marvin Queries"
   ]
  },
  {
   "cell_type": "code",
   "execution_count": null,
   "id": "99bfb190",
   "metadata": {
    "slideshow": {
     "slide_type": "fragment"
    }
   },
   "outputs": [],
   "source": [
    "from marvin.tools.query import Query\n"
   ]
  },
  {
   "cell_type": "code",
   "execution_count": null,
   "id": "665e4d06",
   "metadata": {
    "scrolled": true,
    "slideshow": {
     "slide_type": "fragment"
    }
   },
   "outputs": [],
   "source": [
    "myfilter = 'nsa.z < 0.1 and nsa.elpetro_logmass < 9'\n",
    "# create a query\n",
    "query = Query(search_filter=myfilter)\n",
    "results = query.run()\n",
    "print(results.results[0:10])"
   ]
  }
 ],
 "metadata": {
  "celltoolbar": "Slideshow",
  "kernelspec": {
   "display_name": "Python 3 (ipykernel)",
   "language": "python",
   "name": "python3"
  },
  "language_info": {
   "codemirror_mode": {
    "name": "ipython",
    "version": 3
   },
   "file_extension": ".py",
   "mimetype": "text/x-python",
   "name": "python",
   "nbconvert_exporter": "python",
   "pygments_lexer": "ipython3",
   "version": "3.8.18"
  }
 },
 "nbformat": 4,
 "nbformat_minor": 5
}
