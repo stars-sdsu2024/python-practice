{
 "cells": [
  {
   "cell_type": "markdown",
   "id": "095b5ac0",
   "metadata": {},
   "source": [
    "# SDSU Training Astronomy Research Scholars (STARS)\n",
    "# Day 5: Python Functions Practice\n",
    "\n",
    "\n",
    "### Prof. Kate Rubin <br> June 30, 2023"
   ]
  },
  {
   "cell_type": "markdown",
   "id": "ca431151",
   "metadata": {},
   "source": [
    "**(1)** Recall the **`for` loop** you used in your Intro to Python practice notebook to print out the following lines of text:\n",
    "<pre>\n",
    "1 star\n",
    "2 star\n",
    "3 star\n",
    "4 star\n",
    "5 star\n",
    "6 star\n",
    "7 star\n",
    "8 star\n",
    "9 star\n",
    "10 star\n",
    "11 star\n",
    "12 star\n",
    "13 star\n",
    "14 star\n",
    "15 star\n",
    "</pre>\n",
    "\n"
   ]
  },
  {
   "cell_type": "markdown",
   "id": "f8743314",
   "metadata": {},
   "source": [
    "Write a **function** that prints out lines of `N star` as above (where `N` are the counting numbers).  The function should take one input: the number of `stars`s to print.  Check your code and verify you can use it to print 3, 5, 10, or any other number of `stars`s **without** making any changes to the function (you should be able to just call the function with different input values to do this)."
   ]
  },
  {
   "cell_type": "code",
   "execution_count": null,
   "id": "040c13c3",
   "metadata": {},
   "outputs": [],
   "source": []
  },
  {
   "cell_type": "markdown",
   "id": "7ab5fe40",
   "metadata": {},
   "source": [
    "**(2)** $-$ Included in Python's arithmetic operators such as `+` (addition), `-` (subtraction), `*` (multiplication), and `/` (division), is the `%` (modulo) operator. The modulo operator returns the [remainder](https://en.wikipedia.org/wiki/Remainder) after one number has been divided by another. For an example, see the following code cell:"
   ]
  },
  {
   "cell_type": "code",
   "execution_count": null,
   "id": "f6b13432",
   "metadata": {},
   "outputs": [],
   "source": [
    "b = 3\n",
    "for a in range(10):\n",
    "    print('{} % {} = {}'.format(a, b, a % b))"
   ]
  },
  {
   "cell_type": "markdown",
   "id": "42131d6a",
   "metadata": {},
   "source": [
    "**(2A)** $-$ Prime numbers are only evenly divisible by themselves and one. Complete the code template below to create a function to test if a given number is prime."
   ]
  },
  {
   "cell_type": "code",
   "execution_count": null,
   "id": "917a2ad2",
   "metadata": {},
   "outputs": [],
   "source": [
    "def isprime(number):\n",
    "    for ????\n",
    "        if ????\n",
    "            return False\n",
    "    return True"
   ]
  },
  {
   "cell_type": "markdown",
   "id": "3b50cc54",
   "metadata": {},
   "source": [
    "**(2B)** $-$ Test your `isprime` function on integers from 2 through 25."
   ]
  },
  {
   "cell_type": "code",
   "execution_count": null,
   "id": "4af64e2d",
   "metadata": {},
   "outputs": [],
   "source": []
  },
  {
   "cell_type": "markdown",
   "id": "81887c95",
   "metadata": {},
   "source": [
    "**(2C)** $-$ How many prime numbers are there between 50,000 and 60,000?"
   ]
  },
  {
   "cell_type": "code",
   "execution_count": null,
   "id": "1cca3cf3",
   "metadata": {},
   "outputs": [],
   "source": []
  },
  {
   "cell_type": "markdown",
   "id": "2f2de4e8",
   "metadata": {},
   "source": [
    "**(3)** $-$ Complete the `add_integer` function below using only basic python and the given functions, `addone` and `subone` below. (Don't use the `+` operator or any other python packages -- basic python only; **no** `numpy`)."
   ]
  },
  {
   "cell_type": "code",
   "execution_count": null,
   "id": "52c964d2",
   "metadata": {},
   "outputs": [],
   "source": [
    "def addone(x):\n",
    "    return x + 1\n",
    "\n",
    "def subone(x):\n",
    "    return x - 1\n",
    "\n",
    "def add_integers(i, j):\n",
    "    \"\"\"returns the sum of integers i and j.\n",
    "    e.g. add_integers(2, 3) should evaluate to 5.\"\"\"\n",
    "    ????"
   ]
  }
 ],
 "metadata": {
  "kernelspec": {
   "display_name": "Python 3 (ipykernel)",
   "language": "python",
   "name": "python3"
  },
  "language_info": {
   "codemirror_mode": {
    "name": "ipython",
    "version": 3
   },
   "file_extension": ".py",
   "mimetype": "text/x-python",
   "name": "python",
   "nbconvert_exporter": "python",
   "pygments_lexer": "ipython3",
   "version": "3.9.12"
  }
 },
 "nbformat": 4,
 "nbformat_minor": 5
}
