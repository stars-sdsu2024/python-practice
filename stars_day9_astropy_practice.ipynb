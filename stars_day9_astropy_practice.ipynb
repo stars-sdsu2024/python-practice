{
 "cells": [
  {
   "cell_type": "markdown",
   "id": "523b2ecb",
   "metadata": {},
   "source": [
    "# SDSU Training Astronomy Research Scholars (STARS)\n",
    "# Day 9: Practice with `astropy`\n",
    "\n",
    "\n",
    "### Adapted from:\n",
    " - Prof. Robert Quimby\n",
    " - [SDSS Voyages H-R Diagram Expedition](http://voyages.sdss.org/expeditions/expedition-to-the-milky-way/h-r-diagram/a-simple-h-r-diagram/)\n",
    "\n",
    "### Prof. Kate Rubin <br> July 5, 2024\n"
   ]
  },
  {
   "cell_type": "markdown",
   "id": "64e35864",
   "metadata": {},
   "source": [
    "### Reference Material:\n",
    "- `astropy` tools for working with [units and quantities](http://docs.astropy.org/en/stable/units/)\n",
    "- [`astropy` documentation](http://docs.astropy.org/en/stable/)\n",
    "- Wikipedia page on [Celestial Coordinates](https://en.wikipedia.org/wiki/Celestial_coordinate_system) (including links to articles on [Alt-Az](https://en.wikipedia.org/wiki/Horizontal_coordinate_system) and [Equitorial](https://en.wikipedia.org/wiki/Equatorial_coordinate_system) coordinate systems among others)\n",
    "- *Sky and Telescope* articles on [Celestial Coordiates](https://www.skyandtelescope.com/astronomy-resources/what-are-celestial-coordinates/) and [Right Ascension and Declination](https://www.skyandtelescope.com/astronomy-resources/right-ascension-declination-celestial-coordinates/)"
   ]
  },
  {
   "cell_type": "markdown",
   "id": "ff49e6ad",
   "metadata": {},
   "source": [
    "**(1)** Use `astropy.units` to calculate the mass of Jupiter in grams."
   ]
  },
  {
   "cell_type": "code",
   "execution_count": null,
   "id": "cf842362",
   "metadata": {},
   "outputs": [],
   "source": []
  },
  {
   "cell_type": "markdown",
   "id": "80a03a91",
   "metadata": {},
   "source": [
    "**(2)** Use `astropy.units` to calculate the mass of the Sun in units of Jupiter's mass."
   ]
  },
  {
   "cell_type": "code",
   "execution_count": null,
   "id": "7e89b662",
   "metadata": {},
   "outputs": [],
   "source": []
  },
  {
   "cell_type": "markdown",
   "id": "b1aef3d7",
   "metadata": {},
   "source": [
    "**(3)** Use `astropy.constants` and `astropy.units` to determine the orbital speed of the Earth around the sun in km/s."
   ]
  },
  {
   "cell_type": "code",
   "execution_count": null,
   "id": "8ab99cd4",
   "metadata": {},
   "outputs": [],
   "source": []
  },
  {
   "cell_type": "markdown",
   "id": "002f06a0",
   "metadata": {},
   "source": [
    "**(4)** What is the Earth's orbital speed in miles per hour?"
   ]
  },
  {
   "cell_type": "code",
   "execution_count": null,
   "id": "2d877803",
   "metadata": {},
   "outputs": [],
   "source": []
  },
  {
   "cell_type": "markdown",
   "id": "2abc2199",
   "metadata": {},
   "source": [
    "**(5)** Use the `SkyCoord` package to find the coordinates of the famous star `Vega`."
   ]
  },
  {
   "cell_type": "code",
   "execution_count": null,
   "id": "bd67b754",
   "metadata": {},
   "outputs": [],
   "source": []
  },
  {
   "cell_type": "markdown",
   "id": "142b8cc3",
   "metadata": {},
   "source": [
    "**(6)** What would be the coordinates of a hypothetical object that is located 2 degrees north of Vega?"
   ]
  },
  {
   "cell_type": "code",
   "execution_count": null,
   "id": "7a008d18",
   "metadata": {},
   "outputs": [],
   "source": []
  },
  {
   "cell_type": "markdown",
   "id": "ea3444ae",
   "metadata": {},
   "source": [
    "**(7)** The file `Expedition-HR-Diagram.csv` contains the B-V color, apparent magnitude, and absolute magnitude, of the 26 brightest stars in the sky.  Absolute magnitude is one way astronomers measure a star's total luminosity.  We haven't talked about this yet -- but one important thing to remember about magnitudes is that **brighter** stars have **lower** magnitude values.\n",
    "\n",
    "Read the data in this file into an astropy table, and then make a plot of the stars' B-V color vs. absolute magnitude.  Make your plot so that the brightest stars appear at the top of your diagram, and the faintest stars appear at the bottom.\n"
   ]
  },
  {
   "cell_type": "code",
   "execution_count": null,
   "id": "929ccd4d",
   "metadata": {},
   "outputs": [],
   "source": []
  }
 ],
 "metadata": {
  "kernelspec": {
   "display_name": "Python 3 (ipykernel)",
   "language": "python",
   "name": "python3"
  },
  "language_info": {
   "codemirror_mode": {
    "name": "ipython",
    "version": 3
   },
   "file_extension": ".py",
   "mimetype": "text/x-python",
   "name": "python",
   "nbconvert_exporter": "python",
   "pygments_lexer": "ipython3",
   "version": "3.11.5"
  }
 },
 "nbformat": 4,
 "nbformat_minor": 5
}
