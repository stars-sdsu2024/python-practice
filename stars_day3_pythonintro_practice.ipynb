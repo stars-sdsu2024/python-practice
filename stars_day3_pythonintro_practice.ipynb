{
 "cells": [
  {
   "cell_type": "markdown",
   "id": "a5825469",
   "metadata": {},
   "source": [
    "# SDSU Training Astronomy Research Scholars (STARS)\n",
    "# Day 3: Intro to Python Practice\n",
    "\n",
    "\n",
    "### Prof. Kate Rubin <br> June 26, 2024"
   ]
  },
  {
   "cell_type": "markdown",
   "id": "d8fc1671",
   "metadata": {},
   "source": [
    "### Reference Material:\n",
    "- Read the [python tutorial](https://docs.python.org/3/tutorial/) sections 1-4, and 7.\n",
    "- A [Whirlwind Tour of Python](https://github.com/jakevdp/WhirlwindTourOfPython) by Jake VanderPlas (direct link to the [PDF](https://www.oreilly.com/programming/free/files/a-whirlwind-tour-of-python.pdf))\n",
    "- Chapter 2, \"Basic Python\" in [Python for Astronomers](https://prappleizer.github.io/) by Imad Pasha and Chris Agostino\n",
    "- [Python introduction](https://www.inferentialthinking.com/chapters/03/programming-in-python.html) from the Foundations of Data Science class at UC Berkeley\n",
    "- The [w3schools python tutorial](https://www.w3schools.com/python/default.asp)"
   ]
  },
  {
   "cell_type": "markdown",
   "id": "c738de86",
   "metadata": {},
   "source": [
    "### Exercises:"
   ]
  },
  {
   "cell_type": "markdown",
   "id": "e543357c",
   "metadata": {},
   "source": [
    "**(1)** $-$ Work through the Day 1 [Bootcamp tutorials](https://prappleizer.github.io/#tutorials) (Exercises 1 and 2)."
   ]
  },
  {
   "cell_type": "markdown",
   "id": "b747c9fd",
   "metadata": {},
   "source": [
    "**(2)** $-$ Given the following python list:"
   ]
  },
  {
   "cell_type": "code",
   "execution_count": null,
   "id": "c6a4f254",
   "metadata": {},
   "outputs": [],
   "source": [
    "example1 = ['make', 'sure', 'you', 'test',\n",
    "            'and', 'got', 'everything', 'as',\n",
    "            'it', 'should', 'be', 'correct']"
   ]
  },
  {
   "cell_type": "markdown",
   "id": "aa593c71",
   "metadata": {},
   "source": [
    "**(2A)** $-$ Print out a slice of the list that contains only the first item."
   ]
  },
  {
   "cell_type": "code",
   "execution_count": null,
   "id": "8d325165",
   "metadata": {},
   "outputs": [],
   "source": []
  },
  {
   "cell_type": "markdown",
   "id": "8b61df3e",
   "metadata": {},
   "source": [
    "**(2B)** $-$ Print out a slice of the **last** element in the list. Note you can do this without knowing how many items are in the list!"
   ]
  },
  {
   "cell_type": "code",
   "execution_count": null,
   "id": "37c2d935",
   "metadata": {},
   "outputs": [],
   "source": []
  },
  {
   "cell_type": "markdown",
   "id": "2a9eed4d",
   "metadata": {},
   "source": [
    "**(2C)** $-$ Print out a slice of the first 4 elements in the list."
   ]
  },
  {
   "cell_type": "code",
   "execution_count": null,
   "id": "5dd6365d",
   "metadata": {},
   "outputs": [],
   "source": []
  },
  {
   "cell_type": "markdown",
   "id": "b0785ec6",
   "metadata": {},
   "source": [
    "**(2D)** $-$ Print out a slice of every third item in the list starting with `'you'`."
   ]
  },
  {
   "cell_type": "code",
   "execution_count": null,
   "id": "0e757b25",
   "metadata": {},
   "outputs": [],
   "source": []
  },
  {
   "cell_type": "markdown",
   "id": "14f2810f",
   "metadata": {},
   "source": [
    "**(3A)** $-$ Write a **`for` loop** to print out the following lines of text:\n",
    "<pre>\n",
    "1 star\n",
    "2 star\n",
    "3 star\n",
    "4 star\n",
    "5 star\n",
    "6 star\n",
    "7 star\n",
    "8 star\n",
    "9 star\n",
    "10 star\n",
    "11 star\n",
    "12 star\n",
    "13 star\n",
    "14 star\n",
    "15 star\n",
    "</pre>\n",
    "\n",
    "Note that the word `star` should appear in your code only once.  "
   ]
  },
  {
   "cell_type": "code",
   "execution_count": null,
   "id": "5808d797",
   "metadata": {},
   "outputs": [],
   "source": []
  },
  {
   "cell_type": "markdown",
   "id": "4597119b",
   "metadata": {},
   "source": [
    "**(3B)** $-$ Write a **`for` loop** to print out the same text as in **(3A)**, using different syntax.  (That is, if you used list comprehension in your answer to **(3A)**, do something different here."
   ]
  },
  {
   "cell_type": "code",
   "execution_count": null,
   "id": "10b05581",
   "metadata": {},
   "outputs": [],
   "source": []
  },
  {
   "cell_type": "markdown",
   "id": "d3dad793",
   "metadata": {},
   "source": [
    "**(4)** Starting with one of your `for` loops from **(3)**, edit your code so that it produces the following output:\n",
    "<pre>\n",
    "1 star\n",
    "2 stars\n",
    "3 stars\n",
    "4 stars\n",
    "5 stars\n",
    "6 stars\n",
    "7 stars\n",
    "8 stars\n",
    "9 stars\n",
    "10 stars\n",
    "11 stars\n",
    "12 stars\n",
    "13 stars\n",
    "14 stars\n",
    "15 STARS\n",
    "</pre>"
   ]
  },
  {
   "cell_type": "code",
   "execution_count": null,
   "id": "6943b0da",
   "metadata": {},
   "outputs": [],
   "source": []
  },
  {
   "cell_type": "code",
   "execution_count": null,
   "id": "b2fb5024",
   "metadata": {},
   "outputs": [],
   "source": []
  }
 ],
 "metadata": {
  "kernelspec": {
   "display_name": "Python 3 (ipykernel)",
   "language": "python",
   "name": "python3"
  },
  "language_info": {
   "codemirror_mode": {
    "name": "ipython",
    "version": 3
   },
   "file_extension": ".py",
   "mimetype": "text/x-python",
   "name": "python",
   "nbconvert_exporter": "python",
   "pygments_lexer": "ipython3",
   "version": "3.11.5"
  }
 },
 "nbformat": 4,
 "nbformat_minor": 5
}
